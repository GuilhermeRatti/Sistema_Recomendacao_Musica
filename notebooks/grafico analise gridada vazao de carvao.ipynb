{
 "cells": [
  {
   "cell_type": "code",
   "execution_count": 1,
   "id": "b4c6cc19",
   "metadata": {},
   "outputs": [
    {
     "name": "stdout",
     "output_type": "stream",
     "text": [
      "/home/lcad/blastfurnace\n"
     ]
    }
   ],
   "source": [
    "import os\n",
    "os.chdir('../')\n",
    "current_path = os.getcwd() \n",
    "\n",
    "print(current_path)"
   ]
  },
  {
   "cell_type": "code",
   "execution_count": 2,
   "id": "57b149e6",
   "metadata": {},
   "outputs": [
    {
     "name": "stderr",
     "output_type": "stream",
     "text": [
      "/home/lcad/.local/lib/python3.8/site-packages/tqdm/auto.py:22: TqdmWarning: IProgress not found. Please update jupyter and ipywidgets. See https://ipywidgets.readthedocs.io/en/stable/user_install.html\n",
      "  from .autonotebook import tqdm as notebook_tqdm\n"
     ]
    }
   ],
   "source": [
    "from blastfurnace.config import get_cfg\n",
    "from blastfurnace.utils.defaults import default_setup\n",
    "from blastfurnace.data.datasets import ArcelorMittalDataset\n",
    "\n",
    "from sklearn.linear_model import LinearRegression\n",
    "import matplotlib.pyplot as plt\n",
    "\n",
    "import glob\n",
    "import pandas as pd\n",
    "import numpy as np"
   ]
  },
  {
   "cell_type": "code",
   "execution_count": 15,
   "id": "4948f95c",
   "metadata": {},
   "outputs": [
    {
     "name": "stderr",
     "output_type": "stream",
     "text": [
      "- Extrapolating features: 100%|█████████████████████████████████████████████████| 5793/5793 [00:01<00:00, 2952.35it/s]\n"
     ]
    }
   ],
   "source": [
    "cfg = get_cfg()\n",
    "cfg.merge_from_file('configs/run_max_temp/LINEAR_NORMALIZATION.yaml')\n",
    "cfg.freeze()\n",
    "\n",
    "full_dataset = ArcelorMittalDataset(cfg[\"DATASET\"])\n",
    "\n",
    "x, y, full_x, full_y, feature_names = full_dataset.build_dataset()\n",
    "splits = full_dataset.all_to_splits(x, y, full_y, full_dataset.all_x)\n",
    "test_x, test_y, test_full_y, test_full_x = splits[\"test\"]\n",
    "train_x, train_y, train_full_y, train_full_x = splits[\"train\"]"
   ]
  },
  {
   "cell_type": "code",
   "execution_count": 25,
   "id": "17ed936c",
   "metadata": {
    "scrolled": true
   },
   "outputs": [],
   "source": [
    "non_duplicated = ((train_full_x['non_duplicated']==True) & (train_full_x['non_interpolated']==True))\n",
    "\n",
    "train_full_x = train_full_x.loc[non_duplicated]\n",
    "train_full_y = train_full_y.loc[non_duplicated]\n",
    "\n",
    "train_full_x.loc[:, ('temperature')] = train_full_y['temperature']\n",
    "train_full_x.loc[:, ('run_id')] = train_full_y['run_id']\n",
    "train_full_x.loc[:, ('date')] = train_full_y['date']\n",
    "gb = train_full_x.groupby(['run_id'])\n"
   ]
  },
  {
   "cell_type": "code",
   "execution_count": 34,
   "id": "05c09820",
   "metadata": {},
   "outputs": [
    {
     "ename": "IndentationError",
     "evalue": "expected an indented block (1031894304.py, line 8)",
     "output_type": "error",
     "traceback": [
      "\u001b[0;36m  Input \u001b[0;32mIn [34]\u001b[0;36m\u001b[0m\n\u001b[0;31m    for name, group in gb:\u001b[0m\n\u001b[0m                          ^\u001b[0m\n\u001b[0;31mIndentationError\u001b[0m\u001b[0;31m:\u001b[0m expected an indented block\n"
     ]
    }
   ],
   "source": [
    "delta_carvao = 0\n",
    "delta_temperatura = 0\n",
    "\n",
    "def get_deltas_in_group(group,qtd):\n",
    "    if qtd==1:\n",
    "        return group['temperature'], group\n",
    "\n",
    "for name, group in gb:\n",
    "    \n",
    "\n",
    "# for index, row in df.iterrows():\n",
    "#     if index == 0:\n",
    "#         delta_carvao = row[\"processo_vazao-de-carvao-na-linha-principal\"]\n",
    "#     else:\n",
    "#         delta_carvao = row[\"processo_vazao-de-carvao-na-linha-principal\"] - row[\"lag_1_processo_vazao-de-carvao-na-linha-principal\"]\n",
    "        "
   ]
  },
  {
   "cell_type": "code",
   "execution_count": null,
   "id": "188dfc35",
   "metadata": {},
   "outputs": [],
   "source": []
  }
 ],
 "metadata": {
  "kernelspec": {
   "display_name": "Python 3 (ipykernel)",
   "language": "python",
   "name": "python3"
  },
  "language_info": {
   "codemirror_mode": {
    "name": "ipython",
    "version": 3
   },
   "file_extension": ".py",
   "mimetype": "text/x-python",
   "name": "python",
   "nbconvert_exporter": "python",
   "pygments_lexer": "ipython3",
   "version": "3.8.10"
  }
 },
 "nbformat": 4,
 "nbformat_minor": 5
}
