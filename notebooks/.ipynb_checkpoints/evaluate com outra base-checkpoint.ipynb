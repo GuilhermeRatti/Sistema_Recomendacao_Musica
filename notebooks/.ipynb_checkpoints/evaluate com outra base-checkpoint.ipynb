{
 "cells": [
  {
   "cell_type": "code",
   "execution_count": 1,
   "metadata": {},
   "outputs": [
    {
     "name": "stdout",
     "output_type": "stream",
     "text": [
      "/home/lcad/blastfurnace\n"
     ]
    },
    {
     "name": "stderr",
     "output_type": "stream",
     "text": [
      "/home/lcad/.local/lib/python3.8/site-packages/tqdm/auto.py:22: TqdmWarning: IProgress not found. Please update jupyter and ipywidgets. See https://ipywidgets.readthedocs.io/en/stable/user_install.html\n",
      "  from .autonotebook import tqdm as notebook_tqdm\n"
     ]
    }
   ],
   "source": [
    "import os\n",
    "os.chdir('../')\n",
    "current_path = os.getcwd() \n",
    "\n",
    "print(current_path)\n",
    "\n",
    "from blastfurnace.config import get_cfg\n",
    "from blastfurnace.utils.defaults import default_setup\n",
    "from blastfurnace.data.datasets import ArcelorMittalDataset\n",
    "from blastfurnace.data import build_datasets\n",
    "import os\n",
    "import json\n",
    "import time\n",
    "import numpy as np\n",
    "import pandas as pd\n",
    "from tabulate import tabulate\n",
    "\n",
    "from blastfurnace.utils import get_results\n",
    "from blastfurnace.engine.base import BaseTrainer\n",
    "from blastfurnace.modeling.scikit import ScikitModel"
   ]
  },
  {
   "cell_type": "code",
   "execution_count": 2,
   "metadata": {},
   "outputs": [
    {
     "name": "stdout",
     "output_type": "stream",
     "text": [
      "{'covariates':         processo_volume-de-sopro  indices_operacionais_taxa-de-o2  \\\n",
      "median                   6063.52                            6.926   \n",
      "iqr                       205.96                            1.726   \n",
      "\n",
      "        processo_umidade-do-ar-de-sopro  processo_temperatura-do-ar-de-sopro  \\\n",
      "median                            18.31                              1230.23   \n",
      "iqr                                3.95                                21.56   \n",
      "\n",
      "        processo_vazao-de-carvao-na-linha-principal  processo_pressao-do-topo  \\\n",
      "median                                        82.97                      2.48   \n",
      "iqr                                           11.05                      1.00   \n",
      "\n",
      "        carga_peso-total-seco-coque  carga_peso-total-de-minerio  \\\n",
      "median                    48.860287                   342.706450   \n",
      "iqr                        6.891477                    44.420105   \n",
      "\n",
      "        carga_coque-rate  carga_minerio-rate  \n",
      "median        291.466670         1567.052400  \n",
      "iqr            14.516122           19.040625  }\n",
      "{'covariates':         processo_volume-de-sopro  indices_operacionais_taxa-de-o2  \\\n",
      "median                   6063.52                            6.926   \n",
      "iqr                       205.96                            1.726   \n",
      "\n",
      "        processo_umidade-do-ar-de-sopro  processo_temperatura-do-ar-de-sopro  \\\n",
      "median                            18.31                              1230.23   \n",
      "iqr                                3.95                                21.56   \n",
      "\n",
      "        processo_vazao-de-carvao-na-linha-principal  processo_pressao-do-topo  \\\n",
      "median                                        82.97                      2.48   \n",
      "iqr                                           11.05                      1.00   \n",
      "\n",
      "        carga_peso-total-seco-coque  carga_peso-total-de-minerio  \\\n",
      "median                    48.860287                   342.706450   \n",
      "iqr                        6.891477                    44.420105   \n",
      "\n",
      "        carga_coque-rate  carga_minerio-rate  \n",
      "median        291.466670         1567.052400  \n",
      "iqr            14.516122           19.040625  , 'temperature':         run_max_temp  temperature  delta_time_previous30min  \\\n",
      "median        1503.0       1498.0                 15.216667   \n",
      "iqr             28.0         29.0                 14.850000   \n",
      "\n",
      "        prev_run_max_temp  delta_time_prev_run  \\\n",
      "median             1503.0           159.483333   \n",
      "iqr                  27.0            67.183333   \n",
      "\n",
      "        prev_run_same_taphole_max_temp  delta_time_prev_run_same_taphole  \n",
      "median                          1503.0                           323.450  \n",
      "iqr                               28.0                            78.375  }\n"
     ]
    },
    {
     "name": "stderr",
     "output_type": "stream",
     "text": [
      "- Extrapolating features: 100%|███████████████████████████████████████████████| 5983/5983 [00:03<00:00, 1741.91it/s]\n"
     ]
    },
    {
     "name": "stdout",
     "output_type": "stream",
     "text": [
      "{'covariates':         processo_volume-de-sopro  indices_operacionais_taxa-de-o2  \\\n",
      "median                   6063.52                            6.926   \n",
      "iqr                       205.96                            1.726   \n",
      "\n",
      "        processo_umidade-do-ar-de-sopro  processo_temperatura-do-ar-de-sopro  \\\n",
      "median                            18.31                              1230.23   \n",
      "iqr                                3.95                                21.56   \n",
      "\n",
      "        processo_vazao-de-carvao-na-linha-principal  processo_pressao-do-topo  \\\n",
      "median                                        82.97                      2.48   \n",
      "iqr                                           11.05                      1.00   \n",
      "\n",
      "        carga_peso-total-seco-coque  carga_peso-total-de-minerio  \\\n",
      "median                    48.860287                   342.706450   \n",
      "iqr                        6.891477                    44.420105   \n",
      "\n",
      "        carga_coque-rate  carga_minerio-rate  \n",
      "median        291.466670         1567.052400  \n",
      "iqr            14.516122           19.040625  , 'temperature':         run_max_temp  temperature  delta_time_previous30min  \\\n",
      "median        1503.0       1498.0                 15.216667   \n",
      "iqr             28.0         29.0                 14.850000   \n",
      "\n",
      "        prev_run_max_temp  delta_time_prev_run  \\\n",
      "median             1503.0           159.483333   \n",
      "iqr                  27.0            67.183333   \n",
      "\n",
      "        prev_run_same_taphole_max_temp  delta_time_prev_run_same_taphole  \n",
      "median                          1503.0                           323.450  \n",
      "iqr                               28.0                            78.375  }\n",
      "{'covariates':         processo_volume-de-sopro  indices_operacionais_taxa-de-o2  \\\n",
      "median                   6063.52                            6.926   \n",
      "iqr                       205.96                            1.726   \n",
      "\n",
      "        processo_umidade-do-ar-de-sopro  processo_temperatura-do-ar-de-sopro  \\\n",
      "median                            18.31                              1230.23   \n",
      "iqr                                3.95                                21.56   \n",
      "\n",
      "        processo_vazao-de-carvao-na-linha-principal  processo_pressao-do-topo  \\\n",
      "median                                        82.97                      2.48   \n",
      "iqr                                           11.05                      1.00   \n",
      "\n",
      "        carga_peso-total-seco-coque  carga_peso-total-de-minerio  \\\n",
      "median                    48.860287                   342.706450   \n",
      "iqr                        6.891477                    44.420105   \n",
      "\n",
      "        carga_coque-rate  carga_minerio-rate  \n",
      "median        291.466670         1567.052400  \n",
      "iqr            14.516122           19.040625  , 'temperature':         run_max_temp  temperature  delta_time_previous30min  \\\n",
      "median        1503.0       1498.0                 15.216667   \n",
      "iqr             28.0         29.0                 14.850000   \n",
      "\n",
      "        prev_run_max_temp  delta_time_prev_run  \\\n",
      "median             1503.0           159.483333   \n",
      "iqr                  27.0            67.183333   \n",
      "\n",
      "        prev_run_same_taphole_max_temp  delta_time_prev_run_same_taphole  \n",
      "median                          1503.0                           323.450  \n",
      "iqr                               28.0                            78.375  }\n"
     ]
    },
    {
     "ename": "ValueError",
     "evalue": "too many values to unpack (expected 4)",
     "output_type": "error",
     "traceback": [
      "\u001b[0;31m---------------------------------------------------------------------------\u001b[0m",
      "\u001b[0;31mValueError\u001b[0m                                Traceback (most recent call last)",
      "Input \u001b[0;32mIn [2]\u001b[0m, in \u001b[0;36m<cell line: 10>\u001b[0;34m()\u001b[0m\n\u001b[1;32m      6\u001b[0m full_dataset \u001b[38;5;241m=\u001b[39m ArcelorMittalDataset(cfg[\u001b[38;5;124m\"\u001b[39m\u001b[38;5;124mDATASET\u001b[39m\u001b[38;5;124m\"\u001b[39m])\n\u001b[1;32m      8\u001b[0m full_dataset\u001b[38;5;241m.\u001b[39mdf_covariates\u001b[38;5;241m.\u001b[39mloc[\u001b[38;5;241m72387\u001b[39m,[\u001b[38;5;124m'\u001b[39m\u001b[38;5;124mprocesso_vazao-de-carvao-na-linha-principal\u001b[39m\u001b[38;5;124m'\u001b[39m]] \u001b[38;5;241m=\u001b[39m \u001b[38;5;241m5\u001b[39m\n\u001b[0;32m---> 10\u001b[0m x, y, full_y, feature_names \u001b[38;5;241m=\u001b[39m full_dataset\u001b[38;5;241m.\u001b[39mbuild_dataset()\n\u001b[1;32m     11\u001b[0m splits \u001b[38;5;241m=\u001b[39m full_dataset\u001b[38;5;241m.\u001b[39mall_to_splits(x, y, full_y)\n\u001b[1;32m     12\u001b[0m test_x, test_y, test_full_y \u001b[38;5;241m=\u001b[39m splits[\u001b[38;5;124m\"\u001b[39m\u001b[38;5;124mtest\u001b[39m\u001b[38;5;124m\"\u001b[39m]\n",
      "\u001b[0;31mValueError\u001b[0m: too many values to unpack (expected 4)"
     ]
    }
   ],
   "source": [
    "cfg = get_cfg()\n",
    "cfg.merge_from_file('configs/run_max_temp/LINEAR_REG_TEMP.yaml')\n",
    "cfg.freeze()\n",
    "\n",
    "model_first = ScikitModel(cfg)\n",
    "full_dataset = ArcelorMittalDataset(cfg[\"DATASET\"])\n",
    "\n",
    "full_dataset.df_covariates.loc[72387,['processo_vazao-de-carvao-na-linha-principal']] = 5\n",
    "\n",
    "x, y, full_x, full_y, feature_names = full_dataset.build_dataset()\n",
    "splits = full_dataset.all_to_splits(x, y, full_y, full_dataset.all_x)\n",
    "test_x, test_y, test_full_y, test_full_x = splits[\"test\"]\n",
    "train_x, train_y, train_full_y, train_full_x = splits[\"train\"]\n",
    "val_x, val_y, val_full_y, val_full_x = splits[\"val\"]\n",
    "\n",
    "dataset = {\n",
    "    \"train\": {\"x\": train_x, \"y\": train_y, \"t\": train_full_y[\"original_date\"].to_numpy(), \"grid_t\": train_full_y[\"date\"].to_numpy(), \"run_id\": train_full_y[\"run_id\"].to_numpy()},  # noqa\n",
    "    \"val\": {\"x\": val_x, \"y\": val_y, \"t\": val_full_y[\"original_date\"].to_numpy(), \"grid_t\": val_full_y[\"date\"].to_numpy(), \"run_id\": val_full_y[\"run_id\"].to_numpy()},  # noqa\n",
    "    \"test\": {\"x\": test_x, \"y\": test_y, \"t\": test_full_y[\"original_date\"].to_numpy(), \"grid_t\": test_full_y[\"date\"].to_numpy(), \"run_id\": test_full_y[\"run_id\"].to_numpy()},  # noqa\n",
    "    \"feature_names\": feature_names,\n",
    "    \"normalizer\": full_dataset.normalizer\n",
    "}\n"
   ]
  },
  {
   "cell_type": "code",
   "execution_count": 3,
   "metadata": {},
   "outputs": [],
   "source": [
    "from blastfurnace.utils.metrics import MAE, MAPE, SMAPE, RMSE, accuracy, confusion_matrix, accuracy_in_range\n",
    "\n",
    "def get_results(df, task, logger=None):\n",
    "    y_true = df['y_true'].to_numpy()\n",
    "    y_pred = df['y_pred'].to_numpy()\n",
    "\n",
    "    # aggregate results based on the run_id\n",
    "    if task.lower() in [\"run-classification\", \"run-regression\"]:\n",
    "        gb = df.groupby(by='run_id').agg({\n",
    "            \"date\": \"max\",\n",
    "            \"y_true\": \"max\",\n",
    "            \"y_pred\": \"max\"\n",
    "        })\n",
    "        y_true = gb[\"y_true\"].to_numpy()\n",
    "        y_pred = gb[\"y_pred\"].to_numpy()\n",
    "\n",
    "    if task.lower() in [\"regression\", \"run-regression\"]:\n",
    "        if logger is not None:\n",
    "            type_str = {\"regression\": \"measurement\", \"run-regression\": \"run\"}\n",
    "            logger.info(f\"Evaluation: {type_str[task.lower()]}-based regression\")\n",
    "        result = {\n",
    "            \"mae\": MAE(y_true, y_pred),\n",
    "            \"rmse\": RMSE(y_true, y_pred),\n",
    "            \"mape\": 100 * MAPE(y_true, y_pred),\n",
    "            \"acc_at_5\": 100 * accuracy_in_range(y_true, y_pred, max_error=5),\n",
    "        }\n",
    "    elif task.lower() in [\"classification\", \"run-classification\"]:\n",
    "        if logger is not None:\n",
    "            type_str = {\"classification\": \"measurement\", \"run-classification\": \"run\"}           \n",
    "            logger.info(f\"Evaluation: {type_str[task.lower()]}-based classification\")\n",
    "        result = {\n",
    "            \"accuracy\": 100 * accuracy(y_true, y_pred),\n",
    "            \"f1_score\": 100 * f1_score(y_true, y_pred),\n",
    "            \"precision\": 100 * precision(y_true, y_pred),\n",
    "            \"recall\": 100 * recall(y_true, y_pred),\n",
    "        }\n",
    "    else:\n",
    "        raise ValueError(f\"Invalid MODEL.TASK: {task}\")\n",
    "\n",
    "    return result"
   ]
  },
  {
   "cell_type": "code",
   "execution_count": 4,
   "metadata": {},
   "outputs": [],
   "source": [
    "def evaluate(dataset_evaluate, dt, name_csv):\n",
    "    y_true = dt['y']\n",
    "    y_pred = model_first(dt['x'])\n",
    "\n",
    "    if (\"normalizer\" in dataset_evaluate) and (\"temperature\" in dataset_evaluate['normalizer']):\n",
    "        y_true = dataset_evaluate['normalizer'].inverse_transform(y_true, name=\"temperature\", columns=cfg[\"DATASET\"][\"TARGET\"])\n",
    "        y_pred = dataset_evaluate['normalizer'].inverse_transform(y_pred, name=\"temperature\", columns=cfg[\"DATASET\"][\"TARGET\"])\n",
    "\n",
    "    \n",
    "    # store data in a DataFrame\n",
    "    df = pd.DataFrame.from_dict({\n",
    "        \"date\": dt['t'],\n",
    "        \"y_true\": y_true,\n",
    "        \"y_pred\": y_pred,\n",
    "        \"run_id\": dt['run_id'],\n",
    "    })\n",
    "    \n",
    "    df=df.fillna(df.mean())\n",
    "    df.to_csv('experiments/{0}.csv'.format(name_csv), index=False)\n",
    "    result = get_results(df, cfg[\"MODEL\"][\"TASK\"])\n",
    "\n",
    "    tab = tabulate(\n",
    "        result.items(),\n",
    "        tablefmt=\"pipe\",\n",
    "        floatfmt=\".3f\",\n",
    "        headers=[\"Metric\", \"Value\"],\n",
    "        numalign=\"left\",\n",
    "    )\n",
    "    print(\"Results:\\n{}\".format(tab))\n",
    "    return y_pred"
   ]
  },
  {
   "cell_type": "code",
   "execution_count": 5,
   "metadata": {},
   "outputs": [
    {
     "ename": "FileNotFoundError",
     "evalue": "idxs.csv not found.",
     "output_type": "error",
     "traceback": [
      "\u001b[0;31m---------------------------------------------------------------------------\u001b[0m",
      "\u001b[0;31mFileNotFoundError\u001b[0m                         Traceback (most recent call last)",
      "Input \u001b[0;32mIn [5]\u001b[0m, in \u001b[0;36m<cell line: 2>\u001b[0;34m()\u001b[0m\n\u001b[1;32m      1\u001b[0m \u001b[38;5;28;01mfrom\u001b[39;00m \u001b[38;5;21;01mnumpy\u001b[39;00m \u001b[38;5;28;01mimport\u001b[39;00m genfromtxt\n\u001b[0;32m----> 2\u001b[0m my_data \u001b[38;5;241m=\u001b[39m \u001b[43mgenfromtxt\u001b[49m\u001b[43m(\u001b[49m\u001b[38;5;124;43m'\u001b[39;49m\u001b[38;5;124;43midxs.csv\u001b[39;49m\u001b[38;5;124;43m'\u001b[39;49m\u001b[43m,\u001b[49m\u001b[43m \u001b[49m\u001b[43mdelimiter\u001b[49m\u001b[38;5;241;43m=\u001b[39;49m\u001b[38;5;124;43m'\u001b[39;49m\u001b[38;5;124;43m,\u001b[39;49m\u001b[38;5;124;43m'\u001b[39;49m\u001b[43m)\u001b[49m\n\u001b[1;32m      3\u001b[0m my_data \u001b[38;5;241m=\u001b[39m my_data\u001b[38;5;241m.\u001b[39mastype(\u001b[38;5;28mint\u001b[39m)\n\u001b[1;32m      4\u001b[0m my_data\u001b[38;5;241m.\u001b[39mshape\n",
      "File \u001b[0;32m~/.local/lib/python3.8/site-packages/numpy/lib/npyio.py:1934\u001b[0m, in \u001b[0;36mgenfromtxt\u001b[0;34m(fname, dtype, comments, delimiter, skip_header, skip_footer, converters, missing_values, filling_values, usecols, names, excludelist, deletechars, replace_space, autostrip, case_sensitive, defaultfmt, unpack, usemask, loose, invalid_raise, max_rows, encoding, ndmin, like)\u001b[0m\n\u001b[1;32m   1932\u001b[0m     fname \u001b[38;5;241m=\u001b[39m os_fspath(fname)\n\u001b[1;32m   1933\u001b[0m \u001b[38;5;28;01mif\u001b[39;00m \u001b[38;5;28misinstance\u001b[39m(fname, \u001b[38;5;28mstr\u001b[39m):\n\u001b[0;32m-> 1934\u001b[0m     fid \u001b[38;5;241m=\u001b[39m \u001b[43mnp\u001b[49m\u001b[38;5;241;43m.\u001b[39;49m\u001b[43mlib\u001b[49m\u001b[38;5;241;43m.\u001b[39;49m\u001b[43m_datasource\u001b[49m\u001b[38;5;241;43m.\u001b[39;49m\u001b[43mopen\u001b[49m\u001b[43m(\u001b[49m\u001b[43mfname\u001b[49m\u001b[43m,\u001b[49m\u001b[43m \u001b[49m\u001b[38;5;124;43m'\u001b[39;49m\u001b[38;5;124;43mrt\u001b[39;49m\u001b[38;5;124;43m'\u001b[39;49m\u001b[43m,\u001b[49m\u001b[43m \u001b[49m\u001b[43mencoding\u001b[49m\u001b[38;5;241;43m=\u001b[39;49m\u001b[43mencoding\u001b[49m\u001b[43m)\u001b[49m\n\u001b[1;32m   1935\u001b[0m     fid_ctx \u001b[38;5;241m=\u001b[39m contextlib\u001b[38;5;241m.\u001b[39mclosing(fid)\n\u001b[1;32m   1936\u001b[0m \u001b[38;5;28;01melse\u001b[39;00m:\n",
      "File \u001b[0;32m~/.local/lib/python3.8/site-packages/numpy/lib/_datasource.py:193\u001b[0m, in \u001b[0;36mopen\u001b[0;34m(path, mode, destpath, encoding, newline)\u001b[0m\n\u001b[1;32m    156\u001b[0m \u001b[38;5;124;03m\"\"\"\u001b[39;00m\n\u001b[1;32m    157\u001b[0m \u001b[38;5;124;03mOpen `path` with `mode` and return the file object.\u001b[39;00m\n\u001b[1;32m    158\u001b[0m \n\u001b[0;32m   (...)\u001b[0m\n\u001b[1;32m    189\u001b[0m \n\u001b[1;32m    190\u001b[0m \u001b[38;5;124;03m\"\"\"\u001b[39;00m\n\u001b[1;32m    192\u001b[0m ds \u001b[38;5;241m=\u001b[39m DataSource(destpath)\n\u001b[0;32m--> 193\u001b[0m \u001b[38;5;28;01mreturn\u001b[39;00m \u001b[43mds\u001b[49m\u001b[38;5;241;43m.\u001b[39;49m\u001b[43mopen\u001b[49m\u001b[43m(\u001b[49m\u001b[43mpath\u001b[49m\u001b[43m,\u001b[49m\u001b[43m \u001b[49m\u001b[43mmode\u001b[49m\u001b[43m,\u001b[49m\u001b[43m \u001b[49m\u001b[43mencoding\u001b[49m\u001b[38;5;241;43m=\u001b[39;49m\u001b[43mencoding\u001b[49m\u001b[43m,\u001b[49m\u001b[43m \u001b[49m\u001b[43mnewline\u001b[49m\u001b[38;5;241;43m=\u001b[39;49m\u001b[43mnewline\u001b[49m\u001b[43m)\u001b[49m\n",
      "File \u001b[0;32m~/.local/lib/python3.8/site-packages/numpy/lib/_datasource.py:533\u001b[0m, in \u001b[0;36mDataSource.open\u001b[0;34m(self, path, mode, encoding, newline)\u001b[0m\n\u001b[1;32m    530\u001b[0m     \u001b[38;5;28;01mreturn\u001b[39;00m _file_openers[ext](found, mode\u001b[38;5;241m=\u001b[39mmode,\n\u001b[1;32m    531\u001b[0m                               encoding\u001b[38;5;241m=\u001b[39mencoding, newline\u001b[38;5;241m=\u001b[39mnewline)\n\u001b[1;32m    532\u001b[0m \u001b[38;5;28;01melse\u001b[39;00m:\n\u001b[0;32m--> 533\u001b[0m     \u001b[38;5;28;01mraise\u001b[39;00m \u001b[38;5;167;01mFileNotFoundError\u001b[39;00m(\u001b[38;5;124mf\u001b[39m\u001b[38;5;124m\"\u001b[39m\u001b[38;5;132;01m{\u001b[39;00mpath\u001b[38;5;132;01m}\u001b[39;00m\u001b[38;5;124m not found.\u001b[39m\u001b[38;5;124m\"\u001b[39m)\n",
      "\u001b[0;31mFileNotFoundError\u001b[0m: idxs.csv not found."
     ]
    }
   ],
   "source": [
    "from numpy import genfromtxt\n",
    "my_data = genfromtxt('idxs.csv', delimiter=',')\n",
    "my_data = my_data.astype(int)\n",
    "my_data.shape\n",
    "\n",
    "train_x=train_x[my_data]\n",
    "train_y=train_y[my_data]"
   ]
  },
  {
   "cell_type": "code",
   "execution_count": 6,
   "metadata": {
    "scrolled": true
   },
   "outputs": [
    {
     "name": "stdout",
     "output_type": "stream",
     "text": [
      "Results:\n",
      "| Metric   | Value   |\n",
      "|:---------|:--------|\n",
      "| mae      | 18.150  |\n",
      "| rmse     | 22.737  |\n",
      "| mape     | 1.210   |\n",
      "| acc_at_5 | 17.599  |\n"
     ]
    },
    {
     "name": "stderr",
     "output_type": "stream",
     "text": [
      "/home/navarro/miniconda3/envs/blast379/lib/python3.7/site-packages/ipykernel_launcher.py:18: FutureWarning: DataFrame.mean and DataFrame.median with numeric_only=None will include datetime64 and datetime64tz columns in a future version.\n"
     ]
    }
   ],
   "source": [
    "trainval = {\n",
    "    \"x\": np.concatenate([dataset[\"train\"][\"x\"], dataset[\"val\"][\"x\"]], axis=0),\n",
    "    \"y\": np.concatenate([dataset[\"train\"][\"y\"], dataset[\"val\"][\"y\"]], axis=0),\n",
    "}\n",
    "\n",
    "model_first.train(dataset[\"train\"][\"x\"], dataset[\"train\"][\"y\"])\n",
    "#model_first.train(trainval[\"x\"], trainval[\"y\"])\n",
    "#model_first.train(dataset[\"train\"][\"x\"], dataset[\"train\"][\"y\"])\n",
    "\n",
    "y_pred = evaluate(dataset, dataset[\"test\"], 'pred')\n"
   ]
  },
  {
   "cell_type": "code",
   "execution_count": 7,
   "metadata": {},
   "outputs": [
    {
     "data": {
      "text/plain": [
       "array([0.00236078], dtype=float32)"
      ]
     },
     "execution_count": 7,
     "metadata": {},
     "output_type": "execute_result"
    }
   ],
   "source": [
    "model_first._model.coef_"
   ]
  },
  {
   "cell_type": "code",
   "execution_count": 8,
   "metadata": {},
   "outputs": [
    {
     "data": {
      "text/plain": [
       "Index(['lag_11_processo_vazao-de-carvao-na-linha-principal'], dtype='object')"
      ]
     },
     "execution_count": 8,
     "metadata": {},
     "output_type": "execute_result"
    }
   ],
   "source": [
    "feature_names"
   ]
  },
  {
   "cell_type": "code",
   "execution_count": 9,
   "metadata": {},
   "outputs": [],
   "source": [
    "coef = model_first._model.coef_"
   ]
  },
  {
   "cell_type": "code",
   "execution_count": 11,
   "metadata": {},
   "outputs": [
    {
     "ename": "ValueError",
     "evalue": "'lag_12_processo_vazao-de-carvao-na-linha-principal' is not in list",
     "output_type": "error",
     "traceback": [
      "\u001b[0;31m---------------------------------------------------------------------------\u001b[0m",
      "\u001b[0;31mValueError\u001b[0m                                Traceback (most recent call last)",
      "\u001b[0;32m/tmp/ipykernel_21403/3123870936.py\u001b[0m in \u001b[0;36m<module>\u001b[0;34m\u001b[0m\n\u001b[0;32m----> 1\u001b[0;31m \u001b[0mcoef\u001b[0m\u001b[0;34m[\u001b[0m\u001b[0mlist\u001b[0m\u001b[0;34m(\u001b[0m\u001b[0mfeature_names\u001b[0m\u001b[0;34m)\u001b[0m\u001b[0;34m.\u001b[0m\u001b[0mindex\u001b[0m\u001b[0;34m(\u001b[0m\u001b[0;34m'lag_12_processo_vazao-de-carvao-na-linha-principal'\u001b[0m\u001b[0;34m)\u001b[0m\u001b[0;34m]\u001b[0m\u001b[0;34m\u001b[0m\u001b[0;34m\u001b[0m\u001b[0m\n\u001b[0m",
      "\u001b[0;31mValueError\u001b[0m: 'lag_12_processo_vazao-de-carvao-na-linha-principal' is not in list"
     ]
    }
   ],
   "source": [
    "coef[list(feature_names).index('lag_12_processo_vazao-de-carvao-na-linha-principal')]"
   ]
  },
  {
   "cell_type": "code",
   "execution_count": null,
   "metadata": {},
   "outputs": [],
   "source": []
  }
 ],
 "metadata": {
  "kernelspec": {
   "display_name": "Python 3 (ipykernel)",
   "language": "python",
   "name": "python3"
  },
  "language_info": {
   "codemirror_mode": {
    "name": "ipython",
    "version": 3
   },
   "file_extension": ".py",
   "mimetype": "text/x-python",
   "name": "python",
   "nbconvert_exporter": "python",
   "pygments_lexer": "ipython3",
   "version": "3.8.10"
  },
  "vscode": {
   "interpreter": {
    "hash": "916dbcbb3f70747c44a77c7bcd40155683ae19c65e1c03b4aa3499c5328201f1"
   }
  }
 },
 "nbformat": 4,
 "nbformat_minor": 4
}
